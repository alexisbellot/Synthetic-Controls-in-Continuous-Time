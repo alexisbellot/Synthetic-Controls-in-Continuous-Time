{
 "cells": [
  {
   "cell_type": "markdown",
   "id": "9ebdb851",
   "metadata": {},
   "source": [
    "## Paper Experiments"
   ]
  },
  {
   "cell_type": "code",
   "execution_count": null,
   "id": "61e0873d",
   "metadata": {},
   "outputs": [],
   "source": [
    "import benchmarks\n",
    "import algorithm\n",
    "import data\n",
    "import importlib\n",
    "import matplotlib.pyplot as plt\n",
    "import numpy as np\n",
    "from IPython.display import HTML, display\n",
    "import tabulate\n",
    "import cloudpickle\n",
    "from pathlib import Path\n",
    "import torch\n",
    "\n",
    "import warnings\n",
    "warnings.filterwarnings('ignore')"
   ]
  },
  {
   "cell_type": "code",
   "execution_count": null,
   "id": "78e08a2f",
   "metadata": {},
   "outputs": [],
   "source": [
    "def score(predicted, test):\n",
    "    return np.mean((predicted.reshape(-1)-test.reshape(-1))**2)"
   ]
  },
  {
   "cell_type": "markdown",
   "id": "bb32e818",
   "metadata": {},
   "source": [
    "# 5.1 Lorenz’s chaotic model"
   ]
  },
  {
   "cell_type": "code",
   "execution_count": null,
   "id": "50bb665e",
   "metadata": {},
   "outputs": [],
   "source": [
    "N = 10 # num of control trajectories\n",
    "T = 100 # num of time points\n",
    "dataset = np.zeros((N,T))\n",
    "p = 10 # only for data generation purposes\n",
    "F = 5 # amount of chaos\n",
    "horizon = 30\n",
    "train_T = 70\n",
    "batch_size = 128\n",
    "t_year = 70\n",
    "\n",
    "def eval_SC(X_train_numpy, Y_train_numpy, X_test_numpy, Y_test_numpy):\n",
    "    predictions_SC, _ = benchmarks.SC(X_train_numpy , Y_train_numpy.reshape(-1, 1), X_test_numpy)\n",
    "    return np.mean((predictions_SC[t_year:]-Y_test_numpy[t_year:])**2)\n",
    "\n",
    "def eval_KMM(X_train_numpy, Y_train_numpy, X_test_numpy, Y_test_numpy):\n",
    "    predictions_KMM = benchmarks.KMM(X_train_numpy , Y_train_numpy[:,np.newaxis], X_test_numpy)\n",
    "    return np.mean((predictions_KMM[t_year:]-Y_test_numpy[t_year:])**2)\n",
    "\n",
    "def eval_RSC(X_train_numpy, Y_train_numpy, X_test_numpy, Y_test_numpy):\n",
    "    predictions_RSC, _ = benchmarks.elastic_net(X_train_numpy , Y_train_numpy, X_test_numpy)\n",
    "\n",
    "    return np.mean((predictions_RSC[t_year:]-Y_test_numpy[t_year:])**2)\n",
    "\n",
    "def eval_NC_SC(X_train_numpy, Y_train_numpy, X_test_numpy, Y_test_numpy):\n",
    "    train_X, train_y = np.expand_dims(X_train_numpy, axis=0), np.expand_dims(Y_train_numpy, axis=0)\n",
    "    test_X, test_y = np.expand_dims(X_test_numpy, axis=0), np.expand_dims(Y_test_numpy, axis=0)\n",
    "\n",
    "    train_y = np.expand_dims(train_y, -1)\n",
    "    test_y = np.expand_dims(test_y, -1)\n",
    "    train_X, train_y = torch.from_numpy(train_X).float(), torch.from_numpy(train_y).float()\n",
    "    test_X, test_y = torch.from_numpy(test_X).float(), torch.from_numpy(test_y).float()\n",
    "\n",
    "\n",
    "    model = algorithm.NeuralCDE(input_channels=train_X.shape[2], hidden_channels=5)\n",
    "\n",
    "    # l1_reg = 0.01\n",
    "    iterations = 500\n",
    "\n",
    "    algorithm.train(model,train_X, train_y, test_X, test_y, iterations)\n",
    "\n",
    "    predictions_NC_SC = algorithm.predict(model,test_X).squeeze().numpy()\n",
    "    return np.mean((predictions_NC_SC[t_year:]-Y_test_numpy[t_year:])**2)\n",
    "\n",
    "\n",
    "# Simulate data\n",
    "# Only take first dimension of multiple different lorenz models\n",
    "for i in range(N):\n",
    "    temp, _ = data.simulate_lorenz_96(p, T=T, F=F, delta_t=0.1)\n",
    "    temp = np.transpose(temp)\n",
    "    temp = temp / 8\n",
    "    dataset[i,:] = temp[1,:]\n",
    "\n",
    "# torch data\n",
    "t = torch.linspace(0., 1., dataset.shape[1])\n",
    "xs = torch.tensor(dataset[1:,:]).float().t().unsqueeze(0)\n",
    "X = torch.cat([t.unsqueeze(0).unsqueeze(2), xs], dim=2)\n",
    "Y = torch.tensor(dataset[0,:]).float().unsqueeze(0).unsqueeze(2)\n",
    "\n",
    "# train data\n",
    "train_X = torch.zeros(batch_size,horizon,10)\n",
    "train_y = torch.zeros(batch_size,horizon,1)\n",
    "\n",
    "for i in range(batch_size):\n",
    "    index = torch.from_numpy(np.random.choice(np.arange(train_T - horizon, dtype=np.int64), 1, replace=False))\n",
    "    train_X[i,:,:] = X[:,index:index+horizon,:]\n",
    "    train_y[i,:,:] = Y[:,index:index+horizon,:]\n",
    "\n",
    "# test data\n",
    "test_X, test_y =  X, Y\n",
    "\n",
    "X_train_numpy, Y_train_numpy = np.transpose(dataset[1:,:t_year]), np.transpose(dataset[0,:t_year])\n",
    "X_test_numpy, Y_test_numpy = np.transpose(dataset[1:,:]), np.transpose(dataset[0,:])\n",
    "\n",
    "score_SC_lorenz = eval_SC(X_train_numpy, Y_train_numpy, X_test_numpy, Y_test_numpy)\n",
    "score_KMM_lorenz = eval_KMM(X_train_numpy, Y_train_numpy, X_test_numpy, Y_test_numpy)\n",
    "score_RSC_lorenz = eval_RSC(X_train_numpy, Y_train_numpy, X_test_numpy, Y_test_numpy)\n",
    "score_NC_SC_lorenz = eval_NC_SC(X_train_numpy, Y_train_numpy, X_test_numpy, Y_test_numpy)\n",
    "\n",
    "headers = [\"Method\", \"Score\"]\n",
    "results = [\n",
    "    [\"SC\", score_SC_lorenz],\n",
    "    [\"KMM\", score_KMM_lorenz],\n",
    "    [\"R-SC\", score_RSC_lorenz],\n",
    "    [\"NC-SC\", score_NC_SC_lorenz],\n",
    "    \n",
    "]\n",
    "display(\n",
    "    HTML(tabulate.tabulate(results, headers=headers, tablefmt=\"html\"))\n",
    ")"
   ]
  },
  {
   "cell_type": "markdown",
   "id": "5396238d",
   "metadata": {},
   "source": [
    "# 5.2 The Eurozone and current account deficits"
   ]
  },
  {
   "cell_type": "code",
   "execution_count": null,
   "id": "363962b2",
   "metadata": {},
   "outputs": [],
   "source": [
    "import data\n",
    "\n",
    "# import data\n",
    "X , Y = data.get_emu_data_numpy()\n",
    "t_year = 19\n",
    "X_train , Y_train = X[:t_year].copy(), Y[:t_year,np.newaxis].copy()\n",
    "X_test , Y_test = data.get_emu_data_numpy()"
   ]
  },
  {
   "cell_type": "code",
   "execution_count": null,
   "id": "50d8c7a5",
   "metadata": {},
   "outputs": [],
   "source": [
    "predictions_SC, w_SC = benchmarks.SC(X_train , Y_train, X_test)\n",
    "score_SC = np.mean((predictions_SC[:t_year]-Y_test[:t_year])**2)"
   ]
  },
  {
   "cell_type": "code",
   "execution_count": null,
   "id": "980ac854",
   "metadata": {},
   "outputs": [],
   "source": [
    "predictions_KMM = benchmarks.KMM(X_train , Y_train, X_test)\n",
    "score_KMM = np.mean((predictions_KMM[:t_year]-Y_test[:t_year])**2)"
   ]
  },
  {
   "cell_type": "code",
   "execution_count": null,
   "id": "3160db58",
   "metadata": {},
   "outputs": [],
   "source": [
    "predictions_elastic_net, _ = benchmarks.elastic_net(X_train , Y_train, X_test)\n",
    "score_elastic_net = np.mean((predictions_elastic_net[:t_year]-Y_test[:t_year])**2)"
   ]
  },
  {
   "cell_type": "code",
   "execution_count": null,
   "id": "40d74719",
   "metadata": {},
   "outputs": [],
   "source": []
  },
  {
   "cell_type": "code",
   "execution_count": null,
   "id": "98c34c02",
   "metadata": {},
   "outputs": [],
   "source": [
    "X, Y = data.get_emu_data()\n",
    "train_X, train_y = X[:,:t_year,:], Y[:,:t_year,:]\n",
    "test_X, test_y = data.get_emu_data()\n",
    "model_path = Path(\"eurozone_model.p\")\n",
    "\n",
    "if not model_path.exists():\n",
    "    model = algorithm.NeuralCDE(input_channels=train_X.shape[2], hidden_channels=5)\n",
    "    \n",
    "    # l1_reg = 0.01\n",
    "    iterations = 1000\n",
    "\n",
    "    algorithm.train(model,train_X, train_y, test_X, test_y, iterations)\n",
    "\n",
    "    with open(model_path, \"wb\") as f:\n",
    "        cloudpickle.dump(model, f)\n",
    "else:\n",
    "    with open(model_path, \"rb\") as f:\n",
    "        model = cloudpickle.load(f)\n",
    "\n",
    "predictions_NC_SC = algorithm.predict(model,test_X).squeeze().numpy()\n",
    "score_NC_SC = np.mean((predictions_NC_SC[:t_year]-Y_test[:t_year])**2)"
   ]
  },
  {
   "cell_type": "markdown",
   "id": "3a157381",
   "metadata": {},
   "source": [
    "### Eurozone Counterfactual estimation performance."
   ]
  },
  {
   "cell_type": "code",
   "execution_count": null,
   "id": "f8f713d3",
   "metadata": {},
   "outputs": [],
   "source": [
    "headers = [\"Method\", \"Score\"]\n",
    "results = [\n",
    "    [\"SC\", score_SC],\n",
    "    [\"KMM\", score_KMM],\n",
    "    [\"R-SC\", score_elastic_net],\n",
    "    [\"NC-SC\", score_NC_SC],\n",
    "    \n",
    "]\n",
    "display(\n",
    "    HTML(tabulate.tabulate(results, headers=headers, tablefmt=\"html\"))\n",
    ")\n"
   ]
  },
  {
   "cell_type": "markdown",
   "id": "c6b53040",
   "metadata": {},
   "source": [
    "# 5.3 Smoking control in California"
   ]
  },
  {
   "cell_type": "code",
   "execution_count": null,
   "id": "aafee718",
   "metadata": {},
   "outputs": [],
   "source": [
    "# import data in correct format\n",
    "t_year = 19\n",
    "X , Y = data.get_smoking_data_numpy()\n",
    "X_train , Y_train = X[:t_year], Y[:t_year,np.newaxis]\n",
    "X_test , Y_test = data.get_smoking_data_numpy()"
   ]
  },
  {
   "cell_type": "code",
   "execution_count": null,
   "id": "491f8b96",
   "metadata": {},
   "outputs": [],
   "source": [
    "predictions_SC, w_SC = benchmarks.SC(X_train , Y_train, X_test)\n",
    "score_SC_smoke = np.mean((predictions_SC[:t_year]-Y_test[:t_year])**2)"
   ]
  },
  {
   "cell_type": "code",
   "execution_count": null,
   "id": "9ed41214",
   "metadata": {},
   "outputs": [],
   "source": [
    "predictions_KMM = benchmarks.KMM(X_train , Y_train, X_test)\n",
    "score_KMM_smoke = np.mean((predictions_KMM[:t_year]-Y_test[:t_year])**2)"
   ]
  },
  {
   "cell_type": "code",
   "execution_count": null,
   "id": "29f6b284",
   "metadata": {},
   "outputs": [],
   "source": [
    "predictions_elastic_net, _ = benchmarks.elastic_net(X_train , Y_train, X_test)\n",
    "score_elastic_net_smoke = np.mean((predictions_elastic_net[:t_year]-Y_test[:t_year])**2)"
   ]
  },
  {
   "cell_type": "code",
   "execution_count": null,
   "id": "969f92da",
   "metadata": {},
   "outputs": [],
   "source": [
    "predictions_mc = benchmarks.MC_NNM(X_train , Y_train.reshape(-1, 1), X_test, Y_test.reshape(-1, 1))\n",
    "score_mc_smoke = score_mc_smoke = np.mean((predictions_mc[:t_year]-Y_test[:t_year])**2)"
   ]
  },
  {
   "cell_type": "code",
   "execution_count": null,
   "id": "b5096b2e",
   "metadata": {},
   "outputs": [],
   "source": [
    "X, Y = data.get_smoking_data()\n",
    "train_X, train_y = X[:,:t_year,:], Y[:,:t_year,:]\n",
    "test_X, test_y = data.get_smoking_data()\n",
    "\n",
    "model_path = Path(\"smoking_model.p\")\n",
    "\n",
    "if not model_path.exists():\n",
    "    model = algorithm.NeuralCDE(input_channels=train_X.shape[2], hidden_channels=5)\n",
    "    \n",
    "    # l1_reg = 0.01\n",
    "    iterations = 1000\n",
    "\n",
    "    algorithm.train(model,train_X, train_y, test_X, test_y, iterations)\n",
    "\n",
    "    with open(model_path, \"wb\") as f:\n",
    "        cloudpickle.dump(model, f)\n",
    "else:\n",
    "    with open(model_path, \"rb\") as f:\n",
    "        model = cloudpickle.load(f)\n",
    "\n",
    "predictions_NC_SC = algorithm.predict(model,test_X).squeeze().numpy()\n",
    "score_NC_SC_smoke = np.mean((predictions_NC_SC[:t_year]-Y_test[:t_year])**2)"
   ]
  },
  {
   "cell_type": "markdown",
   "id": "62b8b398",
   "metadata": {},
   "source": [
    "###  Smoking control Counterfactual estimation performance."
   ]
  },
  {
   "cell_type": "code",
   "execution_count": null,
   "id": "9c598868",
   "metadata": {},
   "outputs": [],
   "source": [
    "headers = [\"Method\", \"Score\"]\n",
    "results = [\n",
    "    [\"SC\", score_SC_smoke],\n",
    "    [\"KMM\", score_KMM_smoke],\n",
    "    [\"R-SC\", score_elastic_net_smoke],\n",
    "    [\"MC-NNM\", score_mc_smoke],\n",
    "    [\"NC-SC\", score_NC_SC_smoke],\n",
    "    \n",
    "]\n",
    "display(\n",
    "    HTML(tabulate.tabulate(results, headers=headers, tablefmt=\"html\"))\n",
    ")\n"
   ]
  },
  {
   "cell_type": "code",
   "execution_count": null,
   "id": "27b7c232",
   "metadata": {},
   "outputs": [],
   "source": []
  },
  {
   "cell_type": "code",
   "execution_count": null,
   "id": "e8dd6dfe",
   "metadata": {},
   "outputs": [],
   "source": []
  }
 ],
 "metadata": {
  "kernelspec": {
   "display_name": "Python 3",
   "language": "python",
   "name": "python3"
  },
  "language_info": {
   "codemirror_mode": {
    "name": "ipython",
    "version": 3
   },
   "file_extension": ".py",
   "mimetype": "text/x-python",
   "name": "python",
   "nbconvert_exporter": "python",
   "pygments_lexer": "ipython3",
   "version": "3.8.8"
  }
 },
 "nbformat": 4,
 "nbformat_minor": 5
}
